{
 "cells": [
  {
   "cell_type": "code",
   "execution_count": 8,
   "id": "60ff5b86",
   "metadata": {},
   "outputs": [
    {
     "name": "stdout",
     "output_type": "stream",
     "text": [
      "What is your choice?\n",
      "'r' for rock,'p' for paper,'s for scissors'r\n",
      "You won!\n"
     ]
    }
   ],
   "source": [
    "import random\n",
    "def play():\n",
    "    user = input(\"What is your choice?\\n'r' for rock,'p' for paper,'s for scissors'\")\n",
    "    computer = random.choice(['r','p','s'])\n",
    "    \n",
    "    if user == computer:\n",
    "        return 'It is a tie'\n",
    "    \n",
    "    if is_win(user,computer):\n",
    "        return 'You won!'\n",
    "    \n",
    "    return 'You lost!'\n",
    "    \n",
    "def is_win(player,opponent):\n",
    "    if (player=='r' and opponent=='s') or (player=='s' and opponent=='p') or (player=='p' and opponent=='r'):\n",
    "        return True\n",
    "\n",
    "print(play())\n",
    "    "
   ]
  },
  {
   "cell_type": "code",
   "execution_count": null,
   "id": "54f9a650",
   "metadata": {},
   "outputs": [],
   "source": []
  },
  {
   "cell_type": "code",
   "execution_count": null,
   "id": "0169cbc0",
   "metadata": {},
   "outputs": [],
   "source": []
  },
  {
   "cell_type": "code",
   "execution_count": null,
   "id": "37694529",
   "metadata": {},
   "outputs": [],
   "source": []
  }
 ],
 "metadata": {
  "kernelspec": {
   "display_name": "Python 3 (ipykernel)",
   "language": "python",
   "name": "python3"
  },
  "language_info": {
   "codemirror_mode": {
    "name": "ipython",
    "version": 3
   },
   "file_extension": ".py",
   "mimetype": "text/x-python",
   "name": "python",
   "nbconvert_exporter": "python",
   "pygments_lexer": "ipython3",
   "version": "3.10.9"
  }
 },
 "nbformat": 4,
 "nbformat_minor": 5
}
